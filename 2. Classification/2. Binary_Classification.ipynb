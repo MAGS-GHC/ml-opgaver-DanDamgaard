{
  "cells": [
    {
      "cell_type": "markdown",
      "metadata": {
        "id": "TL5y5fY9Jy_x"
      },
      "source": [
        "# Binary Classification\n",
        "\n",
        "So far, you've only created regression models. That is, you created models that produced floating-point predictions, such as, \"houses in this neighborhood costs N thousand dollars.\" In this Colab, you'll create and evaluate a binary [classification model](https://developers.google.com/machine-learning/glossary/#classification_model).  That is, you'll create a model that answers a binary question. In this exercise, the binary question will be, \"Are houses in this neighborhood above a certain price?\"\n",
        "\n",
        "\n",
        "\n"
      ]
    },
    {
      "cell_type": "markdown",
      "metadata": {
        "id": "yuw8rRl9lNuL"
      },
      "source": [
        "## Learning Objectives:\n",
        "\n",
        "After doing this Colab, you'll know how to:\n",
        "\n",
        "  * Convert a regression question into a classification question.\n",
        "  * Modify the classification threshold and determine how that modification influences the model.\n",
        "  * Experiment with different classification metrics to determine your model's effectiveness."
      ]
    },
    {
      "cell_type": "markdown",
      "metadata": {
        "id": "44OdC-OglN9D"
      },
      "source": [
        "## The Dataset\n",
        "  \n",
        "Like several of the previous Colabs, this Colab uses the [California Housing Dataset](https://developers.google.com/machine-learning/crash-course/california-housing-data-description)."
      ]
    },
    {
      "cell_type": "markdown",
      "metadata": {
        "id": "5iuw6-JOGf7I"
      },
      "source": [
        "## Call the import statements\n",
        "\n",
        "The following code imports the necessary modules."
      ]
    },
    {
      "cell_type": "code",
      "execution_count": 1,
      "metadata": {
        "cellView": "form",
        "id": "9n9_cTveKmse"
      },
      "outputs": [
        {
          "name": "stderr",
          "output_type": "stream",
          "text": [
            "2024-01-11 12:08:17.955887: I external/local_tsl/tsl/cuda/cudart_stub.cc:31] Could not find cuda drivers on your machine, GPU will not be used.\n",
            "2024-01-11 12:08:17.997606: E external/local_xla/xla/stream_executor/cuda/cuda_dnn.cc:9261] Unable to register cuDNN factory: Attempting to register factory for plugin cuDNN when one has already been registered\n",
            "2024-01-11 12:08:17.997649: E external/local_xla/xla/stream_executor/cuda/cuda_fft.cc:607] Unable to register cuFFT factory: Attempting to register factory for plugin cuFFT when one has already been registered\n",
            "2024-01-11 12:08:17.998773: E external/local_xla/xla/stream_executor/cuda/cuda_blas.cc:1515] Unable to register cuBLAS factory: Attempting to register factory for plugin cuBLAS when one has already been registered\n",
            "2024-01-11 12:08:18.004763: I external/local_tsl/tsl/cuda/cudart_stub.cc:31] Could not find cuda drivers on your machine, GPU will not be used.\n",
            "2024-01-11 12:08:18.005653: I tensorflow/core/platform/cpu_feature_guard.cc:182] This TensorFlow binary is optimized to use available CPU instructions in performance-critical operations.\n",
            "To enable the following instructions: AVX2 FMA, in other operations, rebuild TensorFlow with the appropriate compiler flags.\n",
            "2024-01-11 12:08:19.593267: W tensorflow/compiler/tf2tensorrt/utils/py_utils.cc:38] TF-TRT Warning: Could not find TensorRT\n"
          ]
        },
        {
          "name": "stdout",
          "output_type": "stream",
          "text": [
            "Ran the import statements.\n"
          ]
        }
      ],
      "source": [
        "#@title Load the imports\n",
        "\n",
        "import numpy as np\n",
        "import pandas as pd\n",
        "import tensorflow as tf\n",
        "from tensorflow.keras import layers\n",
        "from matplotlib import pyplot as plt\n",
        "\n",
        "# The following lines adjust the granularity of reporting.\n",
        "pd.options.display.max_rows = 10\n",
        "pd.options.display.float_format = \"{:.1f}\".format\n",
        "# tf.keras.backend.set_floatx('float32')\n",
        "\n",
        "print(\"Ran the import statements.\")"
      ]
    },
    {
      "cell_type": "markdown",
      "metadata": {
        "id": "X_TaJhU4KcuY"
      },
      "source": [
        "## Load the datasets from the internet\n",
        "\n",
        "The following code cell loads the separate .csv files and creates the following two pandas DataFrames:\n",
        "\n",
        "* `train_df`, which contains the training set\n",
        "* `test_df`, which contains the test set"
      ]
    },
    {
      "cell_type": "code",
      "execution_count": 2,
      "metadata": {
        "id": "JZlvdpyYKx7V"
      },
      "outputs": [],
      "source": [
        "train_df = pd.read_csv(\"https://download.mlcc.google.com/mledu-datasets/california_housing_train.csv\")\n",
        "test_df = pd.read_csv(\"https://download.mlcc.google.com/mledu-datasets/california_housing_test.csv\")\n",
        "train_df = train_df.reindex(np.random.permutation(train_df.index)) # shuffle the training set"
      ]
    },
    {
      "cell_type": "markdown",
      "metadata": {
        "id": "q_vuAQq0Cvrp"
      },
      "source": [
        "Unlike some of the previous Colabs, the preceding code cell did not scale the label (`median_house_value`).  The following section (\"Normalize values\") provides an alternative approach."
      ]
    },
    {
      "cell_type": "markdown",
      "metadata": {
        "id": "_G6y-XcEmk6r"
      },
      "source": [
        "## Normalize values\n",
        "\n",
        "When creating a model with multiple features, the values of each feature should cover roughly the same range.  For example, if one feature's range spans 500 to 100,000 and another feature's range spans 2 to 12, then the model will be difficult or impossible to train. Therefore, you should\n",
        "[normalize](https://developers.google.com/machine-learning/glossary/#normalization) features in a multi-feature model.\n",
        "\n",
        "The following code cell normalizes datasets by converting each raw value (including the label) to its Z-score. A **Z-score** is the number of standard deviations from the mean for a particular raw value. For example, consider a feature having the following characteristics:\n",
        "\n",
        "  * The mean is 60.\n",
        "  * The standard deviation is 10.\n",
        "\n",
        "The raw value 75 would have a Z-score of +1.5:\n",
        "\n",
        "```\n",
        "  Z-score = (75 - 60) / 10 = +1.5\n",
        "```\n",
        "\n",
        "The raw value 38 would have a Z-score of -2.2:\n",
        "\n",
        "```\n",
        "  Z-score = (38 - 60) / 10 = -2.2\n",
        "```"
      ]
    },
    {
      "cell_type": "code",
      "execution_count": 3,
      "metadata": {
        "id": "n7nuAHoZIgVI"
      },
      "outputs": [
        {
          "data": {
            "text/html": [
              "<div>\n",
              "<style scoped>\n",
              "    .dataframe tbody tr th:only-of-type {\n",
              "        vertical-align: middle;\n",
              "    }\n",
              "\n",
              "    .dataframe tbody tr th {\n",
              "        vertical-align: top;\n",
              "    }\n",
              "\n",
              "    .dataframe thead th {\n",
              "        text-align: right;\n",
              "    }\n",
              "</style>\n",
              "<table border=\"1\" class=\"dataframe\">\n",
              "  <thead>\n",
              "    <tr style=\"text-align: right;\">\n",
              "      <th></th>\n",
              "      <th>longitude</th>\n",
              "      <th>latitude</th>\n",
              "      <th>housing_median_age</th>\n",
              "      <th>total_rooms</th>\n",
              "      <th>total_bedrooms</th>\n",
              "      <th>population</th>\n",
              "      <th>households</th>\n",
              "      <th>median_income</th>\n",
              "      <th>median_house_value</th>\n",
              "    </tr>\n",
              "  </thead>\n",
              "  <tbody>\n",
              "    <tr>\n",
              "      <th>177</th>\n",
              "      <td>1.6</td>\n",
              "      <td>-0.9</td>\n",
              "      <td>-1.5</td>\n",
              "      <td>-0.1</td>\n",
              "      <td>-0.1</td>\n",
              "      <td>-0.5</td>\n",
              "      <td>-0.5</td>\n",
              "      <td>-0.5</td>\n",
              "      <td>-0.6</td>\n",
              "    </tr>\n",
              "    <tr>\n",
              "      <th>12256</th>\n",
              "      <td>-1.0</td>\n",
              "      <td>1.4</td>\n",
              "      <td>0.7</td>\n",
              "      <td>-0.7</td>\n",
              "      <td>-0.5</td>\n",
              "      <td>-0.7</td>\n",
              "      <td>-0.6</td>\n",
              "      <td>-1.1</td>\n",
              "      <td>-0.8</td>\n",
              "    </tr>\n",
              "    <tr>\n",
              "      <th>4546</th>\n",
              "      <td>0.8</td>\n",
              "      <td>-0.8</td>\n",
              "      <td>1.0</td>\n",
              "      <td>-0.6</td>\n",
              "      <td>-0.3</td>\n",
              "      <td>-0.2</td>\n",
              "      <td>-0.3</td>\n",
              "      <td>-1.0</td>\n",
              "      <td>-0.6</td>\n",
              "    </tr>\n",
              "    <tr>\n",
              "      <th>5046</th>\n",
              "      <td>0.7</td>\n",
              "      <td>-0.7</td>\n",
              "      <td>-0.3</td>\n",
              "      <td>0.4</td>\n",
              "      <td>1.0</td>\n",
              "      <td>0.3</td>\n",
              "      <td>1.2</td>\n",
              "      <td>-0.4</td>\n",
              "      <td>0.1</td>\n",
              "    </tr>\n",
              "    <tr>\n",
              "      <th>6709</th>\n",
              "      <td>0.6</td>\n",
              "      <td>-0.8</td>\n",
              "      <td>-0.2</td>\n",
              "      <td>-0.3</td>\n",
              "      <td>0.1</td>\n",
              "      <td>0.5</td>\n",
              "      <td>0.1</td>\n",
              "      <td>-1.4</td>\n",
              "      <td>-0.8</td>\n",
              "    </tr>\n",
              "  </tbody>\n",
              "</table>\n",
              "</div>"
            ],
            "text/plain": [
              "       longitude  latitude  housing_median_age  total_rooms  total_bedrooms  \\\n",
              "177          1.6      -0.9                -1.5         -0.1            -0.1   \n",
              "12256       -1.0       1.4                 0.7         -0.7            -0.5   \n",
              "4546         0.8      -0.8                 1.0         -0.6            -0.3   \n",
              "5046         0.7      -0.7                -0.3          0.4             1.0   \n",
              "6709         0.6      -0.8                -0.2         -0.3             0.1   \n",
              "\n",
              "       population  households  median_income  median_house_value  \n",
              "177          -0.5        -0.5           -0.5                -0.6  \n",
              "12256        -0.7        -0.6           -1.1                -0.8  \n",
              "4546         -0.2        -0.3           -1.0                -0.6  \n",
              "5046          0.3         1.2           -0.4                 0.1  \n",
              "6709          0.5         0.1           -1.4                -0.8  "
            ]
          },
          "execution_count": 3,
          "metadata": {},
          "output_type": "execute_result"
        }
      ],
      "source": [
        "# Calculate the Z-scores of each column in the training set and\n",
        "# write those Z-scores into a new pandas DataFrame named train_df_norm.\n",
        "train_df_mean = train_df.mean()\n",
        "train_df_std = train_df.std()\n",
        "train_df_norm = (train_df - train_df_mean)/train_df_std\n",
        "\n",
        "# Examine some of the values of the normalized training set. Notice that most\n",
        "# Z-scores fall between -2 and +2.\n",
        "train_df_norm.head()"
      ]
    },
    {
      "cell_type": "code",
      "execution_count": 9,
      "metadata": {
        "id": "QoW-59jVFF2I"
      },
      "outputs": [],
      "source": [
        "# Calculate the Z-scores of each column in the test set and\n",
        "# write those Z-scores into a new pandas DataFrame named test_df_norm.\n",
        "test_df_norm = (test_df - train_df_mean) / train_df_std\n",
        "\n",
        "# Note that we transform the test data with the values calculated from the training set,\n",
        "# as you should always transform your datasets with exactly the same values."
      ]
    },
    {
      "cell_type": "markdown",
      "metadata": {
        "id": "-swmXtWnZGis"
      },
      "source": [
        "## Task 1: Create a binary label\n",
        "\n",
        "In classification problems, the label for every example must be either 0 or 1. Unfortunately, the natural label in the California Housing Dataset, `median_house_value`, contains floating-point values like 80,100 or 85,700 rather than 0s and 1s, while the normalized version of `median_house_values` contains floating-point values primarily between -3 and +3.\n",
        "\n",
        "Your task is to create a new column named `median_house_value_is_high` in both the training set and the test set . If the `median_house_value` is higher than a certain arbitrary value (defined by `threshold`), then set `median_house_value_is_high` to 1. Otherwise, set `median_house_value_is_high` to 0.\n",
        "\n",
        "**Hint:** The cells in the `median_house_value_is_high` column must each hold `1` and `0`, not `True` and `False`. To convert `True` and `False` to  `1` and `0`, call the pandas DataFrame function `astype(float)`."
      ]
    },
    {
      "cell_type": "code",
      "execution_count": 10,
      "metadata": {
        "id": "d4kWfWA8bhKW"
      },
      "outputs": [
        {
          "data": {
            "text/plain": [
              "177     1.0\n",
              "12256   NaN\n",
              "4546    NaN\n",
              "5046    NaN\n",
              "6709    NaN\n",
              "         ..\n",
              "2029    0.0\n",
              "5551    NaN\n",
              "3123    NaN\n",
              "4067    NaN\n",
              "14661   NaN\n",
              "Name: median_house_value_is_high, Length: 8000, dtype: float64"
            ]
          },
          "execution_count": 10,
          "metadata": {},
          "output_type": "execute_result"
        }
      ],
      "source": [
        "threshold = 265000 # This is the 75th percentile for median house values.\n",
        "train_df_norm[\"median_house_value_is_high\"] = (test_df[\"median_house_value\"] > threshold).astype(float)\n",
        "test_df_norm[\"median_house_value_is_high\"] = (test_df[\"median_house_value\"] > threshold).astype(float)\n",
        "\n",
        "# Print out a few example cells from the beginning and\n",
        "# middle of the training set, just to make sure that\n",
        "# your code created only 0s and 1s in the newly created\n",
        "# median_house_value_is_high column\n",
        "train_df_norm[\"median_house_value_is_high\"].head(8000)"
      ]
    },
    {
      "cell_type": "code",
      "execution_count": 5,
      "metadata": {
        "id": "b8b2fNmHO-iU"
      },
      "outputs": [
        {
          "ename": "NameError",
          "evalue": "name 'test_df_norm' is not defined",
          "output_type": "error",
          "traceback": [
            "\u001b[0;31m---------------------------------------------------------------------------\u001b[0m",
            "\u001b[0;31mNameError\u001b[0m                                 Traceback (most recent call last)",
            "Cell \u001b[0;32mIn[5], line 9\u001b[0m\n\u001b[1;32m      7\u001b[0m threshold \u001b[38;5;241m=\u001b[39m \u001b[38;5;241m265000\u001b[39m\n\u001b[1;32m      8\u001b[0m train_df_norm[\u001b[38;5;124m\"\u001b[39m\u001b[38;5;124mmedian_house_value_is_high\u001b[39m\u001b[38;5;124m\"\u001b[39m] \u001b[38;5;241m=\u001b[39m (train_df[\u001b[38;5;124m\"\u001b[39m\u001b[38;5;124mmedian_house_value\u001b[39m\u001b[38;5;124m\"\u001b[39m] \u001b[38;5;241m>\u001b[39m threshold)\u001b[38;5;241m.\u001b[39mastype(\u001b[38;5;28mfloat\u001b[39m)\n\u001b[0;32m----> 9\u001b[0m \u001b[43mtest_df_norm\u001b[49m[\u001b[38;5;124m\"\u001b[39m\u001b[38;5;124mmedian_house_value_is_high\u001b[39m\u001b[38;5;124m\"\u001b[39m] \u001b[38;5;241m=\u001b[39m (test_df[\u001b[38;5;124m\"\u001b[39m\u001b[38;5;124mmedian_house_value\u001b[39m\u001b[38;5;124m\"\u001b[39m] \u001b[38;5;241m>\u001b[39m threshold)\u001b[38;5;241m.\u001b[39mastype(\u001b[38;5;28mfloat\u001b[39m)\n\u001b[1;32m     10\u001b[0m train_df_norm[\u001b[38;5;124m\"\u001b[39m\u001b[38;5;124mmedian_house_value_is_high\u001b[39m\u001b[38;5;124m\"\u001b[39m]\u001b[38;5;241m.\u001b[39mhead(\u001b[38;5;241m8000\u001b[39m)\n\u001b[1;32m     13\u001b[0m \u001b[38;5;66;03m# Alternatively, instead of picking the threshold\u001b[39;00m\n\u001b[1;32m     14\u001b[0m \u001b[38;5;66;03m# based on raw house values, you can work with Z-scores.\u001b[39;00m\n\u001b[1;32m     15\u001b[0m \u001b[38;5;66;03m# For example, the following possible solution uses a Z-score\u001b[39;00m\n\u001b[0;32m   (...)\u001b[0m\n\u001b[1;32m     21\u001b[0m \u001b[38;5;66;03m# train_df_norm[\"median_house_value_is_high\"] = (train_df_norm[\"median_house_value\"] > threshold_in_Z).astype(float)\u001b[39;00m\n\u001b[1;32m     22\u001b[0m \u001b[38;5;66;03m# test_df_norm[\"median_house_value_is_high\"] = (test_df_norm[\"median_house_value\"] > threshold_in_Z).astype(float)\u001b[39;00m\n",
            "\u001b[0;31mNameError\u001b[0m: name 'test_df_norm' is not defined"
          ]
        }
      ],
      "source": [
        "#@title Double-click for possible solutions.\n",
        "\n",
        "# We arbitrarily set the threshold to 265,000, which is\n",
        "# the 75th percentile for median house values.  Every neighborhood\n",
        "# with a median house price above 265,000 will be labeled 1,\n",
        "# and all other neighborhoods will be labeled 0.\n",
        "threshold = 265000\n",
        "train_df_norm[\"median_house_value_is_high\"] = (train_df[\"median_house_value\"] > threshold).astype(float)\n",
        "test_df_norm[\"median_house_value_is_high\"] = (test_df[\"median_house_value\"] > threshold).astype(float)\n",
        "train_df_norm[\"median_house_value_is_high\"].head(8000)\n",
        "\n",
        "\n",
        "# Alternatively, instead of picking the threshold\n",
        "# based on raw house values, you can work with Z-scores.\n",
        "# For example, the following possible solution uses a Z-score\n",
        "# of +1.0 as the threshold, meaning that no more\n",
        "# than 16% of the values in median_house_value_is_high\n",
        "# will be labeled 1.\n",
        "\n",
        "# threshold_in_Z = 1.0\n",
        "# train_df_norm[\"median_house_value_is_high\"] = (train_df_norm[\"median_house_value\"] > threshold_in_Z).astype(float)\n",
        "# test_df_norm[\"median_house_value_is_high\"] = (test_df_norm[\"median_house_value\"] > threshold_in_Z).astype(float)\n"
      ]
    },
    {
      "cell_type": "markdown",
      "metadata": {
        "id": "8kir8UTUXSV8"
      },
      "source": [
        "## Represent features as input layers\n",
        "\n",
        "This code cell specifies the features, `median_income` and ` total_rooms`, that you'll ultimately train the model on. These [Input](https://www.tensorflow.org/api_docs/python/tf/keras/Input) objects are instantiated as Keras tensors."
      ]
    },
    {
      "cell_type": "code",
      "execution_count": 11,
      "metadata": {
        "id": "3tmmZIDw4JEC"
      },
      "outputs": [],
      "source": [
        "inputs = {\n",
        "# Features used to train the model on.\n",
        "  'median_income': tf.keras.Input(shape=(1,)),\n",
        "  'total_rooms': tf.keras.Input(shape=(1,))\n",
        "}\n"
      ]
    },
    {
      "cell_type": "markdown",
      "metadata": {
        "id": "3014ezH3C7jT"
      },
      "source": [
        "## Define functions that build and train a model\n",
        "\n",
        "The following code cell defines two functions:\n",
        "\n",
        "  * `create_model(inputs, learning_rate, METRICS)`, which defines the model's\n",
        "    topography.\n",
        "  * `train_model(model, dataset, epochs, label_name, batch_size, shuffle)`, uses input features and labels to train the model.\n",
        "\n",
        "Prior exercises used [ReLU](https://developers.google.com/machine-learning/glossary#ReLU) as the [activation function](https://developers.google.com/machine-learning/glossary#activation-function). By contrast, this exercise uses [sigmoid](https://developers.google.com/machine-learning/glossary#sigmoid-function) as the activation function."
      ]
    },
    {
      "cell_type": "code",
      "execution_count": 12,
      "metadata": {
        "id": "pedD5GhlDC-y"
      },
      "outputs": [
        {
          "name": "stdout",
          "output_type": "stream",
          "text": [
            "Defined the create_model and train_model functions.\n"
          ]
        }
      ],
      "source": [
        "#@title Define the functions that create and train a model.\n",
        "def create_model(my_inputs, my_learning_rate, METRICS):\n",
        "  # Use a Concatenate layer to concatenate the input layers into a single tensor.\n",
        "  # as input for the Dense layer. Ex: [input_1[0][0], input_2[0][0]]\n",
        "  concatenated_inputs = tf.keras.layers.Concatenate()(my_inputs.values())\n",
        "  dense = layers.Dense(units=1, name='dense_layer', activation=tf.sigmoid)\n",
        "  dense_output = dense(concatenated_inputs)\n",
        "  \"\"\"Create and compile a simple classification model.\"\"\"\n",
        "  my_outputs = {\n",
        "    'dense': dense_output,\n",
        "  }\n",
        "  model = tf.keras.Model(inputs=my_inputs, outputs=my_outputs)\n",
        "\n",
        "  # Call the compile method to construct the layers into a model that\n",
        "  # TensorFlow can execute.  Notice that we're using a different loss\n",
        "  # function for classification than for regression.\n",
        "  model.compile(optimizer=tf.keras.optimizers.experimental.RMSprop(learning_rate=my_learning_rate),\n",
        "                loss=tf.keras.losses.BinaryCrossentropy(),\n",
        "                metrics=METRICS)\n",
        "  return model\n",
        "\n",
        "\n",
        "def train_model(model, dataset, epochs, label_name,\n",
        "                batch_size=None, shuffle=True):\n",
        "  \"\"\"Feed a dataset into the model in order to train it.\"\"\"\n",
        "\n",
        "  # The x parameter of tf.keras.Model.fit can be a list of arrays, where\n",
        "  # each array contains the data for one feature.  Here, we're passing\n",
        "  # every column in the dataset. Note that the feature_layer will filter\n",
        "  # away most of those columns, leaving only the desired columns and their\n",
        "  # representations as features.\n",
        "  features = {name:np.array(value) for name, value in dataset.items()}\n",
        "  label = np.array(features.pop(label_name))\n",
        "  history = model.fit(x=features, y=label, batch_size=batch_size,\n",
        "                      epochs=epochs, shuffle=shuffle)\n",
        "\n",
        "  # The list of epochs is stored separately from the rest of history.\n",
        "  epochs = history.epoch\n",
        "\n",
        "  # Isolate the classification metric for each epoch.\n",
        "  hist = pd.DataFrame(history.history)\n",
        "\n",
        "  return epochs, hist\n",
        "\n",
        "print(\"Defined the create_model and train_model functions.\")"
      ]
    },
    {
      "cell_type": "markdown",
      "metadata": {
        "id": "Ak_TMAzGOIFq"
      },
      "source": [
        "## Define a plotting function\n",
        "\n",
        "The following [matplotlib](https://developers.google.com/machine-learning/glossary/#matplotlib) function plots one or more curves, showing how various classification metrics change with each epoch."
      ]
    },
    {
      "cell_type": "code",
      "execution_count": 16,
      "metadata": {
        "cellView": "form",
        "id": "QF0BFRXTOeR3"
      },
      "outputs": [
        {
          "name": "stdout",
          "output_type": "stream",
          "text": [
            "Defined the plot_curve function.\n"
          ]
        }
      ],
      "source": [
        "#@title Define the plotting function.\n",
        "def plot_curve(epochs, hist, list_of_metrics):\n",
        "  \"\"\"Plot a curve of one or more classification metrics vs. epoch.\"\"\"\n",
        "  # list_of_metrics should be one of the names shown in:\n",
        "  # https://www.tensorflow.org/tutorials/structured_data/imbalanced_data#define_the_model_and_metrics\n",
        "\n",
        "  plt.figure()\n",
        "  plt.xlabel(\"Epoch\")\n",
        "  plt.ylabel(\"Value\")\n",
        "\n",
        "  for m in list_of_metrics:\n",
        "    x = hist[m]\n",
        "    plt.plot(epochs[1:], x[1:], label=m)\n",
        "\n",
        "  plt.legend()\n",
        "\n",
        "print(\"Defined the plot_curve function.\")"
      ]
    },
    {
      "cell_type": "markdown",
      "metadata": {
        "id": "D-IXYVfvM4gD"
      },
      "source": [
        "## Invoke the creating, training, and plotting functions\n",
        "\n",
        "The following code cell calls specify the hyperparameters, and then invokes the\n",
        "functions to create and train the model, and then to plot the results."
      ]
    },
    {
      "cell_type": "code",
      "execution_count": 17,
      "metadata": {
        "cellView": "both",
        "id": "nj3v5EKQFY8s"
      },
      "outputs": [
        {
          "name": "stdout",
          "output_type": "stream",
          "text": [
            "Epoch 1/20\n",
            "170/170 [==============================] - 0s 969us/step - loss: nan - accuracy: 0.1325\n",
            "Epoch 2/20\n",
            "170/170 [==============================] - 0s 991us/step - loss: nan - accuracy: 0.1326\n",
            "Epoch 3/20\n",
            "170/170 [==============================] - 0s 996us/step - loss: nan - accuracy: 0.1326\n",
            "Epoch 4/20\n",
            "170/170 [==============================] - 0s 1ms/step - loss: nan - accuracy: 0.1326\n",
            "Epoch 5/20\n",
            "170/170 [==============================] - 0s 974us/step - loss: nan - accuracy: 0.1326\n",
            "Epoch 6/20\n",
            "170/170 [==============================] - 0s 1ms/step - loss: nan - accuracy: 0.1326\n",
            "Epoch 7/20\n",
            "170/170 [==============================] - 0s 1ms/step - loss: nan - accuracy: 0.1326\n",
            "Epoch 8/20\n",
            "170/170 [==============================] - 0s 1ms/step - loss: nan - accuracy: 0.1326\n",
            "Epoch 9/20\n",
            "170/170 [==============================] - 0s 976us/step - loss: nan - accuracy: 0.1326\n",
            "Epoch 10/20\n",
            "170/170 [==============================] - 0s 947us/step - loss: nan - accuracy: 0.1326\n",
            "Epoch 11/20\n",
            "170/170 [==============================] - 0s 1ms/step - loss: nan - accuracy: 0.1326\n",
            "Epoch 12/20\n",
            "170/170 [==============================] - 0s 967us/step - loss: nan - accuracy: 0.1326\n",
            "Epoch 13/20\n",
            "170/170 [==============================] - 0s 999us/step - loss: nan - accuracy: 0.1326\n",
            "Epoch 14/20\n",
            "170/170 [==============================] - 0s 953us/step - loss: nan - accuracy: 0.1326\n",
            "Epoch 15/20\n",
            "170/170 [==============================] - 0s 1ms/step - loss: nan - accuracy: 0.1326\n",
            "Epoch 16/20\n",
            "170/170 [==============================] - 0s 954us/step - loss: nan - accuracy: 0.1326\n",
            "Epoch 17/20\n",
            "170/170 [==============================] - 0s 1ms/step - loss: nan - accuracy: 0.1326\n",
            "Epoch 18/20\n",
            "170/170 [==============================] - 0s 951us/step - loss: nan - accuracy: 0.1326\n",
            "Epoch 19/20\n",
            "170/170 [==============================] - 0s 951us/step - loss: nan - accuracy: 0.1326\n",
            "Epoch 20/20\n",
            "170/170 [==============================] - 0s 963us/step - loss: nan - accuracy: 0.1326\n"
          ]
        },
        {
          "data": {
            "image/png": "[encoded data removed]",
            "text/plain": [
              "<Figure size 640x480 with 1 Axes>"
            ]
          },
          "metadata": {},
          "output_type": "display_data"
        }
      ],
      "source": [
        "# The following variables are the hyperparameters.\n",
        "learning_rate = 0.001\n",
        "epochs = 20\n",
        "batch_size = 100\n",
        "label_name = \"median_house_value_is_high\"\n",
        "classification_threshold = 0.35\n",
        "\n",
        "# Establish the metrics the model will measure.\n",
        "METRICS = [\n",
        "           tf.keras.metrics.BinaryAccuracy(name='accuracy',\n",
        "                                           threshold=classification_threshold),\n",
        "          ]\n",
        "\n",
        "# Establish the model's topography.\n",
        "my_model = create_model(inputs, learning_rate, METRICS)\n",
        "\n",
        "# To view a PNG of this model's layers, uncomment the call to\n",
        "# `tf.keras.utils.plot_model` below. After running this code cell, click\n",
        "# the file folder on the left, then the `my_classification_model.png` file.\n",
        "# tf.keras.utils.plot_model(my_model, \"my_classification_model.png\")\n",
        "\n",
        "# Train the model on the training set.\n",
        "epochs, hist = train_model(my_model, train_df_norm, epochs,\n",
        "                           label_name, batch_size)\n",
        "\n",
        "# Plot a graph of the metric(s) vs. epochs.\n",
        "list_of_metrics_to_plot = ['accuracy']\n",
        "\n",
        "plot_curve(epochs, hist, list_of_metrics_to_plot)"
      ]
    },
    {
      "cell_type": "markdown",
      "metadata": {
        "id": "FF64TpqkbOpn"
      },
      "source": [
        "Accuracy should gradually improve during training (until it can\n",
        "improve no more)."
      ]
    },
    {
      "cell_type": "markdown",
      "metadata": {
        "id": "1xNqWWos_zyk"
      },
      "source": [
        "## Evaluate the model against the test set\n",
        "\n",
        "At the end of model training, you ended up with a certain accuracy against the *training set*. Invoke the following code cell to determine your model's accuracy against the *test set*."
      ]
    },
    {
      "cell_type": "code",
      "execution_count": 18,
      "metadata": {
        "id": "eJorkMlDmtHf"
      },
      "outputs": [
        {
          "name": "stdout",
          "output_type": "stream",
          "text": [
            "30/30 [==============================] - 0s 2ms/step - loss: nan - accuracy: 0.7513\n"
          ]
        },
        {
          "data": {
            "text/plain": [
              "[nan, 0.7513333559036255]"
            ]
          },
          "execution_count": 18,
          "metadata": {},
          "output_type": "execute_result"
        }
      ],
      "source": [
        "features = {name:np.array(value) for name, value in test_df_norm.items()}\n",
        "label = np.array(features.pop(label_name))\n",
        "\n",
        "my_model.evaluate(x = features, y = label, batch_size=batch_size)"
      ]
    },
    {
      "cell_type": "markdown",
      "metadata": {
        "id": "q7cHkFXalXV5"
      },
      "source": [
        "## Task 2: How accurate is your model really?\n",
        "\n",
        "Is your model valuable?\n",
        "\n",
        "Svar: omkring 75% det vil sige 25% vil den være forkert så det skal man tag i mente"
      ]
    },
    {
      "cell_type": "code",
      "execution_count": null,
      "metadata": {
        "id": "rUvCrQkulwjV"
      },
      "outputs": [],
      "source": [
        "#@title Double-click for a possible answer to Task 2.\n",
        "\n",
        "# A perfect model would make 100% accurate predictions.\n",
        "# Our model makes 80% accurate predictions. 80% sounds\n",
        "# good, but note that a model that always guesses\n",
        "# \"median_house_value_is_high is False\" would be 75%\n",
        "# accurate."
      ]
    },
    {
      "cell_type": "markdown",
      "metadata": {
        "id": "C8crSCCVf6gm"
      },
      "source": [
        "## Task 3: Add precision and recall as metrics\n",
        "\n",
        "Relying solely on accuracy, particularly for a class-imbalanced data set (like ours), can be a poor way to judge a classification model.  Modify the code in the following code cell to enable the model to measure not only accuracy but also precision and recall. We have\n",
        "added accuracy and precision; your task is to add recall. See the [TensorFlow Reference](https://www.tensorflow.org/api_docs/python/tf/keras/metrics/Recall) for details.\n",
        "\n"
      ]
    },
    {
      "cell_type": "code",
      "execution_count": 22,
      "metadata": {
        "id": "r-k1MD2XArmO"
      },
      "outputs": [
        {
          "name": "stdout",
          "output_type": "stream",
          "text": [
            "Epoch 1/20\n",
            "170/170 [==============================] - 0s 1ms/step - loss: nan - accuracy: 0.1319 - precision: 0.8300 - recall: 0.0056\n",
            "Epoch 2/20\n",
            "170/170 [==============================] - 0s 1ms/step - loss: nan - accuracy: 0.1326 - precision: 0.0000e+00 - recall: 0.0000e+00\n",
            "Epoch 3/20\n",
            "170/170 [==============================] - 0s 1ms/step - loss: nan - accuracy: 0.1326 - precision: 0.0000e+00 - recall: 0.0000e+00\n",
            "Epoch 4/20\n",
            "170/170 [==============================] - 0s 1ms/step - loss: nan - accuracy: 0.1326 - precision: 0.0000e+00 - recall: 0.0000e+00\n",
            "Epoch 5/20\n",
            "170/170 [==============================] - 0s 1ms/step - loss: nan - accuracy: 0.1326 - precision: 0.0000e+00 - recall: 0.0000e+00\n",
            "Epoch 6/20\n",
            "170/170 [==============================] - 0s 1ms/step - loss: nan - accuracy: 0.1326 - precision: 0.0000e+00 - recall: 0.0000e+00\n",
            "Epoch 7/20\n",
            "170/170 [==============================] - 0s 1ms/step - loss: nan - accuracy: 0.1326 - precision: 0.0000e+00 - recall: 0.0000e+00\n",
            "Epoch 8/20\n",
            "170/170 [==============================] - 0s 1ms/step - loss: nan - accuracy: 0.1326 - precision: 0.0000e+00 - recall: 0.0000e+00\n",
            "Epoch 9/20\n",
            "170/170 [==============================] - 0s 1ms/step - loss: nan - accuracy: 0.1326 - precision: 0.0000e+00 - recall: 0.0000e+00\n",
            "Epoch 10/20\n",
            "170/170 [==============================] - 0s 2ms/step - loss: nan - accuracy: 0.1326 - precision: 0.0000e+00 - recall: 0.0000e+00\n",
            "Epoch 11/20\n",
            "170/170 [==============================] - 0s 1ms/step - loss: nan - accuracy: 0.1326 - precision: 0.0000e+00 - recall: 0.0000e+00\n",
            "Epoch 12/20\n",
            "170/170 [==============================] - 0s 1ms/step - loss: nan - accuracy: 0.1326 - precision: 0.0000e+00 - recall: 0.0000e+00\n",
            "Epoch 13/20\n",
            "170/170 [==============================] - 0s 1ms/step - loss: nan - accuracy: 0.1326 - precision: 0.0000e+00 - recall: 0.0000e+00\n",
            "Epoch 14/20\n",
            "170/170 [==============================] - 0s 1ms/step - loss: nan - accuracy: 0.1326 - precision: 0.0000e+00 - recall: 0.0000e+00\n",
            "Epoch 15/20\n",
            "170/170 [==============================] - 0s 1ms/step - loss: nan - accuracy: 0.1326 - precision: 0.0000e+00 - recall: 0.0000e+00\n",
            "Epoch 16/20\n",
            "170/170 [==============================] - 0s 1ms/step - loss: nan - accuracy: 0.1326 - precision: 0.0000e+00 - recall: 0.0000e+00\n",
            "Epoch 17/20\n",
            "170/170 [==============================] - 0s 1ms/step - loss: nan - accuracy: 0.1326 - precision: 0.0000e+00 - recall: 0.0000e+00\n",
            "Epoch 18/20\n",
            "170/170 [==============================] - 0s 1ms/step - loss: nan - accuracy: 0.1326 - precision: 0.0000e+00 - recall: 0.0000e+00\n",
            "Epoch 19/20\n",
            "170/170 [==============================] - 0s 1ms/step - loss: nan - accuracy: 0.1326 - precision: 0.0000e+00 - recall: 0.0000e+00\n",
            "Epoch 20/20\n",
            "170/170 [==============================] - 0s 1ms/step - loss: nan - accuracy: 0.1326 - precision: 0.0000e+00 - recall: 0.0000e+00\n"
          ]
        },
        {
          "data": {
            "image/png": "[encoded data removed]",
            "text/plain": [
              "<Figure size 640x480 with 1 Axes>"
            ]
          },
          "metadata": {},
          "output_type": "display_data"
        }
      ],
      "source": [
        "# The following variables are the hyperparameters.\n",
        "learning_rate = 0.001\n",
        "epochs = 20\n",
        "batch_size = 100\n",
        "classification_threshold = 0.35\n",
        "label_name = \"median_house_value_is_high\"\n",
        "\n",
        "# Modify the following definition of METRICS to generate\n",
        "# not only accuracy and precision, but also recall:\n",
        "METRICS = [\n",
        "      tf.keras.metrics.BinaryAccuracy(name='accuracy',\n",
        "                                      threshold=classification_threshold),\n",
        "      tf.keras.metrics.Precision(thresholds=classification_threshold,\n",
        "                                 name='precision'\n",
        "                                 ),\n",
        "      tf.keras.metrics.Recall(thresholds=classification_threshold,\n",
        "                              name=\"recall\"),\n",
        "]\n",
        "\n",
        "# Establish the model's topography.\n",
        "my_model = create_model(inputs, learning_rate, METRICS)\n",
        "\n",
        "# Train the model on the training set.\n",
        "epochs, hist = train_model(my_model, train_df_norm, epochs,\n",
        "                           label_name, batch_size)\n",
        "\n",
        "# Plot metrics vs. epochs\n",
        "list_of_metrics_to_plot = ['accuracy', 'precision', 'recall']\n",
        "plot_curve(epochs, hist, list_of_metrics_to_plot)"
      ]
    },
    {
      "cell_type": "code",
      "execution_count": 34,
      "metadata": {
        "cellView": "form",
        "id": "Ax87gOyDBhAu"
      },
      "outputs": [
        {
          "name": "stdout",
          "output_type": "stream",
          "text": [
            "Epoch 1/20\n",
            "170/170 [==============================] - 1s 1ms/step - loss: nan - accuracy: 0.1321 - precision: 0.8500 - recall: 0.0058\n",
            "Epoch 2/20\n",
            "170/170 [==============================] - 0s 1ms/step - loss: nan - accuracy: 0.1326 - precision: 0.0000e+00 - recall: 0.0000e+00\n",
            "Epoch 3/20\n",
            "170/170 [==============================] - 0s 2ms/step - loss: nan - accuracy: 0.1326 - precision: 0.0000e+00 - recall: 0.0000e+00\n",
            "Epoch 4/20\n",
            "170/170 [==============================] - 0s 1ms/step - loss: nan - accuracy: 0.1326 - precision: 0.0000e+00 - recall: 0.0000e+00\n",
            "Epoch 5/20\n",
            "170/170 [==============================] - 0s 1ms/step - loss: nan - accuracy: 0.1326 - precision: 0.0000e+00 - recall: 0.0000e+00\n",
            "Epoch 6/20\n",
            "170/170 [==============================] - 0s 1ms/step - loss: nan - accuracy: 0.1326 - precision: 0.0000e+00 - recall: 0.0000e+00\n",
            "Epoch 7/20\n",
            "170/170 [==============================] - 0s 1ms/step - loss: nan - accuracy: 0.1326 - precision: 0.0000e+00 - recall: 0.0000e+00\n",
            "Epoch 8/20\n",
            "170/170 [==============================] - 0s 1ms/step - loss: nan - accuracy: 0.1326 - precision: 0.0000e+00 - recall: 0.0000e+00\n",
            "Epoch 9/20\n",
            "170/170 [==============================] - 0s 1ms/step - loss: nan - accuracy: 0.1326 - precision: 0.0000e+00 - recall: 0.0000e+00\n",
            "Epoch 10/20\n",
            "170/170 [==============================] - 0s 1ms/step - loss: nan - accuracy: 0.1326 - precision: 0.0000e+00 - recall: 0.0000e+00\n",
            "Epoch 11/20\n",
            "170/170 [==============================] - 0s 1ms/step - loss: nan - accuracy: 0.1326 - precision: 0.0000e+00 - recall: 0.0000e+00\n",
            "Epoch 12/20\n",
            "170/170 [==============================] - 0s 1ms/step - loss: nan - accuracy: 0.1326 - precision: 0.0000e+00 - recall: 0.0000e+00\n",
            "Epoch 13/20\n",
            "170/170 [==============================] - 0s 2ms/step - loss: nan - accuracy: 0.1326 - precision: 0.0000e+00 - recall: 0.0000e+00\n",
            "Epoch 14/20\n",
            "170/170 [==============================] - 0s 1ms/step - loss: nan - accuracy: 0.1326 - precision: 0.0000e+00 - recall: 0.0000e+00\n",
            "Epoch 15/20\n",
            "170/170 [==============================] - 0s 1ms/step - loss: nan - accuracy: 0.1326 - precision: 0.0000e+00 - recall: 0.0000e+00\n",
            "Epoch 16/20\n",
            "170/170 [==============================] - 0s 1ms/step - loss: nan - accuracy: 0.1326 - precision: 0.0000e+00 - recall: 0.0000e+00\n",
            "Epoch 17/20\n",
            "170/170 [==============================] - 0s 1ms/step - loss: nan - accuracy: 0.1326 - precision: 0.0000e+00 - recall: 0.0000e+00\n",
            "Epoch 18/20\n",
            "170/170 [==============================] - 0s 1ms/step - loss: nan - accuracy: 0.1326 - precision: 0.0000e+00 - recall: 0.0000e+00\n",
            "Epoch 19/20\n",
            "170/170 [==============================] - 0s 1ms/step - loss: nan - accuracy: 0.1326 - precision: 0.0000e+00 - recall: 0.0000e+00\n",
            "Epoch 20/20\n",
            "170/170 [==============================] - 0s 1ms/step - loss: nan - accuracy: 0.1326 - precision: 0.0000e+00 - recall: 0.0000e+00\n"
          ]
        },
        {
          "data": {
            "image/png": "[encoded data removed]",
            "text/plain": [
              "<Figure size 640x480 with 1 Axes>"
            ]
          },
          "metadata": {},
          "output_type": "display_data"
        }
      ],
      "source": [
        "#@title Double-click to view the solution for Task 3.\n",
        "\n",
        "# The following variables are the hyperparameters.\n",
        "learning_rate = 0.001\n",
        "epochs = 20\n",
        "batch_size = 100\n",
        "classification_threshold = 0.24\n",
        "label_name = \"median_house_value_is_high\"\n",
        "\n",
        "# Here is the updated definition of METRICS:\n",
        "METRICS = [\n",
        "      tf.keras.metrics.BinaryAccuracy(name='accuracy',\n",
        "                                      threshold=classification_threshold),\n",
        "      tf.keras.metrics.Precision(thresholds=classification_threshold,\n",
        "                                 name='precision'\n",
        "                                 ),\n",
        "      tf.keras.metrics.Recall(thresholds=classification_threshold,\n",
        "                              name=\"recall\"),\n",
        "]\n",
        "\n",
        "# Establish the model's topography.\n",
        "my_model = create_model(inputs, learning_rate, METRICS)\n",
        "\n",
        "# Train the model on the training set.\n",
        "epochs, hist = train_model(my_model, train_df_norm, epochs,\n",
        "                           label_name, batch_size)\n",
        "\n",
        "# Plot metrics vs. epochs\n",
        "list_of_metrics_to_plot = ['accuracy', \"precision\", \"recall\"]\n",
        "plot_curve(epochs, hist, list_of_metrics_to_plot)\n",
        "\n",
        "\n",
        "# The new graphs suggest that precision and recall are\n",
        "# somewhat in conflict. That is, improvements to one of\n",
        "# those metrics may hurt the other metric."
      ]
    },
    {
      "cell_type": "markdown",
      "metadata": {
        "id": "cAsB85iKSXLe"
      },
      "source": [
        "## Task 4: Experiment with the classification threshold (if time permits)\n",
        "\n",
        "Experiment with different values for `classification_threshold` in the code cell within \"Invoke the creating, training, and plotting functions.\"  What value of `classification_threshold` produces the highest accuracy?\n",
        "\n",
        "Svar: classification_threshold på 0.44 giver mig en precision på 90% men accuracy vil altid være på de 13% uanset hvad jeg skriver"
      ]
    },
    {
      "cell_type": "code",
      "execution_count": 29,
      "metadata": {
        "cellView": "form",
        "id": "FLPDYI7Sphnj"
      },
      "outputs": [
        {
          "name": "stdout",
          "output_type": "stream",
          "text": [
            "Epoch 1/20\n",
            "170/170 [==============================] - 0s 1ms/step - loss: nan - accuracy: 0.1324 - precision: 0.8333 - recall: 0.0020\n",
            "Epoch 2/20\n",
            "170/170 [==============================] - 0s 1ms/step - loss: nan - accuracy: 0.1326 - precision: 0.0000e+00 - recall: 0.0000e+00\n",
            "Epoch 3/20\n",
            "170/170 [==============================] - 0s 1ms/step - loss: nan - accuracy: 0.1326 - precision: 0.0000e+00 - recall: 0.0000e+00\n",
            "Epoch 4/20\n",
            "170/170 [==============================] - 0s 2ms/step - loss: nan - accuracy: 0.1326 - precision: 0.0000e+00 - recall: 0.0000e+00\n",
            "Epoch 5/20\n",
            "170/170 [==============================] - 0s 3ms/step - loss: nan - accuracy: 0.1326 - precision: 0.0000e+00 - recall: 0.0000e+00\n",
            "Epoch 6/20\n",
            "170/170 [==============================] - 0s 2ms/step - loss: nan - accuracy: 0.1326 - precision: 0.0000e+00 - recall: 0.0000e+00\n",
            "Epoch 7/20\n",
            "170/170 [==============================] - 0s 1ms/step - loss: nan - accuracy: 0.1326 - precision: 0.0000e+00 - recall: 0.0000e+00\n",
            "Epoch 8/20\n",
            "170/170 [==============================] - 0s 1ms/step - loss: nan - accuracy: 0.1326 - precision: 0.0000e+00 - recall: 0.0000e+00\n",
            "Epoch 9/20\n",
            "170/170 [==============================] - 0s 1ms/step - loss: nan - accuracy: 0.1326 - precision: 0.0000e+00 - recall: 0.0000e+00\n",
            "Epoch 10/20\n",
            "170/170 [==============================] - 0s 1ms/step - loss: nan - accuracy: 0.1326 - precision: 0.0000e+00 - recall: 0.0000e+00\n",
            "Epoch 11/20\n",
            "170/170 [==============================] - 0s 1ms/step - loss: nan - accuracy: 0.1326 - precision: 0.0000e+00 - recall: 0.0000e+00\n",
            "Epoch 12/20\n",
            "170/170 [==============================] - 0s 1ms/step - loss: nan - accuracy: 0.1326 - precision: 0.0000e+00 - recall: 0.0000e+00\n",
            "Epoch 13/20\n",
            "170/170 [==============================] - 0s 1ms/step - loss: nan - accuracy: 0.1326 - precision: 0.0000e+00 - recall: 0.0000e+00\n",
            "Epoch 14/20\n",
            "170/170 [==============================] - 0s 2ms/step - loss: nan - accuracy: 0.1326 - precision: 0.0000e+00 - recall: 0.0000e+00\n",
            "Epoch 15/20\n",
            "170/170 [==============================] - 0s 1ms/step - loss: nan - accuracy: 0.1326 - precision: 0.0000e+00 - recall: 0.0000e+00\n",
            "Epoch 16/20\n",
            "170/170 [==============================] - 0s 1ms/step - loss: nan - accuracy: 0.1326 - precision: 0.0000e+00 - recall: 0.0000e+00\n",
            "Epoch 17/20\n",
            "170/170 [==============================] - 0s 1ms/step - loss: nan - accuracy: 0.1326 - precision: 0.0000e+00 - recall: 0.0000e+00\n",
            "Epoch 18/20\n",
            "170/170 [==============================] - 0s 1ms/step - loss: nan - accuracy: 0.1326 - precision: 0.0000e+00 - recall: 0.0000e+00\n",
            "Epoch 19/20\n",
            "170/170 [==============================] - 0s 1ms/step - loss: nan - accuracy: 0.1326 - precision: 0.0000e+00 - recall: 0.0000e+00\n",
            "Epoch 20/20\n",
            "170/170 [==============================] - 0s 1ms/step - loss: nan - accuracy: 0.1326 - precision: 0.0000e+00 - recall: 0.0000e+00\n"
          ]
        },
        {
          "data": {
            "image/png": "[encoded data removed]",
            "text/plain": [
              "<Figure size 640x480 with 1 Axes>"
            ]
          },
          "metadata": {},
          "output_type": "display_data"
        }
      ],
      "source": [
        "#@title Double-click to view the solution for Task 4.\n",
        "\n",
        "# The following variables are the hyperparameters.\n",
        "learning_rate = 0.001\n",
        "epochs = 20\n",
        "batch_size = 100\n",
        "classification_threshold = 0.52\n",
        "label_name = \"median_house_value_is_high\"\n",
        "\n",
        "# Here is the updated definition of METRICS:\n",
        "METRICS = [\n",
        "      tf.keras.metrics.BinaryAccuracy(name='accuracy',\n",
        "                                      threshold=classification_threshold),\n",
        "      tf.keras.metrics.Precision(thresholds=classification_threshold,\n",
        "                                 name='precision'\n",
        "                                 ),\n",
        "      tf.keras.metrics.Recall(thresholds=classification_threshold,\n",
        "                              name=\"recall\"),\n",
        "]\n",
        "\n",
        "# Establish the model's topography.\n",
        "my_model = create_model(inputs, learning_rate, METRICS)\n",
        "\n",
        "# Train the model on the training set.\n",
        "epochs, hist = train_model(my_model, train_df_norm, epochs,\n",
        "                           label_name, batch_size)\n",
        "\n",
        "# Plot metrics vs. epochs\n",
        "list_of_metrics_to_plot = ['accuracy', \"precision\", \"recall\"]\n",
        "plot_curve(epochs, hist, list_of_metrics_to_plot)\n",
        "\n",
        "# A `classification_threshold` of slightly over 0.5\n",
        "# appears to produce the highest accuracy (about 83%).\n",
        "# Raising the `classification_threshold` to 0.9 drops\n",
        "# accuracy by about 5%.  Lowering the\n",
        "# `classification_threshold` to 0.3 drops accuracy by\n",
        "# about 3%."
      ]
    },
    {
      "cell_type": "markdown",
      "metadata": {
        "id": "XBGRS0Ndduus"
      },
      "source": [
        "## Task 5: Summarize model performance (if time permits)\n",
        "\n",
        "If time permits, add one more metric that attempts to summarize the model's overall performance."
      ]
    },
    {
      "cell_type": "code",
      "execution_count": null,
      "metadata": {
        "cellView": "form",
        "id": "vwNE6syoFvWe"
      },
      "outputs": [],
      "source": [
        "#@title Double-click to view the solution for Task 5.\n",
        "\n",
        "# The following variables are the hyperparameters.\n",
        "learning_rate = 0.001\n",
        "epochs = 20\n",
        "batch_size = 100\n",
        "label_name = \"median_house_value_is_high\"\n",
        "\n",
        "# AUC is a reasonable \"summary\" metric for\n",
        "# classification models.\n",
        "# Here is the updated definition of METRICS to\n",
        "# measure AUC:\n",
        "METRICS = [\n",
        "      tf.keras.metrics.AUC(num_thresholds=100, name='auc'),\n",
        "]\n",
        "\n",
        "# Establish the model's topography.\n",
        "my_model = create_model(inputs, learning_rate, METRICS)\n",
        "\n",
        "# Train the model on the training set.\n",
        "epochs, hist = train_model(my_model, train_df_norm, epochs,\n",
        "                           label_name, batch_size)\n",
        "\n",
        "# Plot metrics vs. epochs\n",
        "list_of_metrics_to_plot = ['auc']\n",
        "plot_curve(epochs, hist, list_of_metrics_to_plot)"
      ]
    }
  ],
  "metadata": {
    "colab": {
      "name": "Binary Classification.ipynb",
      "private_outputs": true,
      "provenance": []
    },
    "kernelspec": {
      "display_name": "Python 3",
      "name": "python3"
    },
    "language_info": {
      "codemirror_mode": {
        "name": "ipython",
        "version": 3
      },
      "file_extension": ".py",
      "mimetype": "text/x-python",
      "name": "python",
      "nbconvert_exporter": "python",
      "pygments_lexer": "ipython3",
      "version": "3.10.13"
    }
  },
  "nbformat": 4,
  "nbformat_minor": 0
}
